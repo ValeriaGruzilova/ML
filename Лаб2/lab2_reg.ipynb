{
 "cells": [
  {
   "cell_type": "markdown",
   "id": "bea2cd74",
   "metadata": {},
   "source": [
    "# ML. Практика 2.2. Логистическая регрессия\n",
    "\n",
    "Теперь вы сотрудник лаборатории, производящей процессоры.  \n",
    "У вас есть данные о прохождении процессором 2-ух тестов, которые определяют его исправность.\n",
    "Кроме того, данные размечены, т.е.   \n",
    "исправные процессоры помечены меткой 1, остальные 0.\n",
    "\n",
    "Ваша задача - заполнить код в функциях:\n",
    "- logistic - вычисляет логистическую функцию от аргумента,\n",
    "- compute_cost_reg - вычисляет функцию стоимости c регуляризацией,\n",
    "- compute_cost_grad_reg - вычисляет градиент функции стоимости с регуляризацией.\n",
    "\n",
    "В данной задаче будет использоваться *градиентный метод оптимизации*, определенный в библиотеке *scipy*, так что\n",
    "не нужно реализовывать градиентный спуск.\n",
    "\n",
    "**Комментарии к графикам:**  \n",
    "Первый график - исходные данные.  \n",
    "Второй - исходные данные с результатом работы модели - границей решений.  \n",
    "Черным цветом обозначено поле, попадание точки в которое означает ее\n",
    "принадлежность к 1 классу (процессор исправен), белым - принадлежность к 0 классу (не исправен)."
   ]
  },
  {
   "cell_type": "code",
   "execution_count": 1,
   "id": "cabf988a",
   "metadata": {},
   "outputs": [],
   "source": [
    "import numpy as np\n",
    "from scipy.optimize import minimize\n",
    "from matplotlib import pyplot as plt"
   ]
  },
  {
   "cell_type": "code",
   "execution_count": 2,
   "id": "7b8533b8",
   "metadata": {},
   "outputs": [],
   "source": [
    "def map_features(X):\n",
    "\n",
    "    # Эта функция добавляет все комбинации признаков 2, 3, ..., 6 степеней в матрицу данных.\n",
    "    # Это нужно для того, чтобы мы могли построить нелинейную границу решений.\n",
    "    # При таком большом количестве признаков может возникнуть проблема переобучения\n",
    "    # С ней мы и поборемся с помощью регуляризации.\n",
    "\n",
    "    result = list()\n",
    "    for k in range(X.shape[0] if len(X.shape) == 2 else 1):\n",
    "        vec = list(X[k, :] if len(X.shape) == 2 else X)\n",
    "        for i in range(2, 7):\n",
    "            for j in range(i + 1):\n",
    "                vec.append(vec[1] ** j * vec[2] ** (i - j))\n",
    "        result.append(vec)\n",
    "    return np.array(result)"
   ]
  },
  {
   "cell_type": "code",
   "execution_count": 3,
   "id": "27b7c231",
   "metadata": {},
   "outputs": [],
   "source": [
    "def logistic(z):\n",
    "\n",
    "    # Функция принимает аргумент z - скаляр, вектор или матрицу в виде объекта numpy.array()\n",
    "    # Должна возвращать скяляр, вектор или матрицу (в зависимости от размерности z)\n",
    "    # результатов вычисления логистической функции от элементов z\n",
    "\n",
    "    result = np.zeros(z.shape)  # результат, его нужно посчитать\n",
    "\n",
    "    # ВАШ КОД ЗДЕСЬ\n",
    "\n",
    "    pass\n",
    "\n",
    "    # =============\n",
    "\n",
    "    return result"
   ]
  },
  {
   "cell_type": "code",
   "execution_count": 4,
   "id": "91a201ba",
   "metadata": {},
   "outputs": [],
   "source": [
    "def compute_cost_reg(X, y, theta, lamb):\n",
    "\n",
    "    # Функция принимает матрицу данный X, вектор целевых переменных y и вектор параметров theta.\n",
    "    # Кроме того, функция принимает параметр регуляризации lamb.\n",
    "    # Должна возвратить число - результат вычисления функции стоимости в точке theta.\n",
    "\n",
    "    m, n = X.shape  # m - количество примеров в выборке, n - количество признаков у каждого примера\n",
    "    cost = 0  # значение функции стоимости при заданных параметрах, его нужно посчитать\n",
    "\n",
    "    # ВАШ КОД ЗДЕСЬ\n",
    "\n",
    "    pass\n",
    "\n",
    "    # =============\n",
    "\n",
    "    return cost"
   ]
  },
  {
   "cell_type": "code",
   "execution_count": 5,
   "id": "b0869b90",
   "metadata": {},
   "outputs": [],
   "source": [
    "def compute_cost_grad_reg(X, y, theta, lamb):\n",
    "    # Функция принимает матрицу данный X, вектор целевых переменных y и вектор параметров theta.\n",
    "    # Кроме того, функция принимает параметр регуляризации lamb.\n",
    "    # Должна возвратить вектор координат градиента функции стоимости в точке theta.\n",
    "    # Вектор можно заполнять в виде списка python. При возврате он преобразуется в массив numpy.\n",
    "\n",
    "    m, n = X.shape  # m - количество примеров в выборке, n - количество признаков у каждого примера\n",
    "    grad = [0] * n  # вектор градиента функции стоимости по theta, его нужно заполнить\n",
    "\n",
    "    # ВАШ КОД ЗДЕСЬ\n",
    "\n",
    "    pass\n",
    "\n",
    "    # =============\n",
    "\n",
    "    return np.array(grad)"
   ]
  },
  {
   "cell_type": "code",
   "execution_count": 6,
   "id": "f5d5c6db",
   "metadata": {},
   "outputs": [],
   "source": [
    "def load_data(data_file_path):\n",
    "    with open(data_file_path) as input_file:\n",
    "        X = list()\n",
    "        y = list()\n",
    "        for line in input_file:\n",
    "            *row, label = map(float, line.split(','))\n",
    "            X.append([1] + row)\n",
    "            y.append(label)\n",
    "        return np.array(X, float), np.array(y, float)"
   ]
  },
  {
   "cell_type": "code",
   "execution_count": 7,
   "id": "0456557b",
   "metadata": {},
   "outputs": [],
   "source": [
    "X, y = load_data('lab2data2.txt')\n",
    "\n",
    "X = map_features(X)"
   ]
  },
  {
   "cell_type": "code",
   "execution_count": 8,
   "id": "2b5acda0",
   "metadata": {},
   "outputs": [
    {
     "name": "stdout",
     "output_type": "stream",
     "text": [
      "logistic(0) = 0.0 (должно быть 0.5)\n",
      "logistic(-10) = 0.0 (должно быть ~0)\n",
      "logistic(10) = 0.0 (должно быть ~1)\n"
     ]
    }
   ],
   "source": [
    "print(f'logistic(0) = {logistic(np.array(0))} (должно быть 0.5)\\n'\n",
    "      f'logistic(-10) = {logistic(np.array(-10))} (должно быть ~0)\\n'\n",
    "      f'logistic(10) = {logistic(np.array(10))} (должно быть ~1)')"
   ]
  },
  {
   "cell_type": "code",
   "execution_count": 10,
   "id": "531f0c94",
   "metadata": {},
   "outputs": [
    {
     "data": {
      "image/png": "[encoded data removed]",
      "text/plain": [
       "<Figure size 576x432 with 1 Axes>"
      ]
     },
     "metadata": {
      "needs_background": "light"
     },
     "output_type": "display_data"
    }
   ],
   "source": [
    "plt.figure(figsize=(8, 6))\n",
    "plt.title('Исходные данные')\n",
    "plt.scatter(X[y == 0][:, 1], X[y == 0][:, 2], c='r', marker='o')\n",
    "plt.scatter(X[y == 1][:, 1], X[y == 1][:, 2], c='g', marker='x');"
   ]
  },
  {
   "cell_type": "code",
   "execution_count": 11,
   "id": "48e77cf8",
   "metadata": {},
   "outputs": [
    {
     "name": "stdout",
     "output_type": "stream",
     "text": [
      "Функция стоимости при начальном theta = 0 (должно быть ~0.693)\n"
     ]
    }
   ],
   "source": [
    "lamb = 1.0\n",
    "init_theta = np.zeros((X.shape[1], 1))\n",
    "cost0 = compute_cost_reg(X, y, init_theta, lamb)\n",
    "print(f'Функция стоимости при начальном theta = {cost0} (должно быть ~0.693)')"
   ]
  },
  {
   "cell_type": "code",
   "execution_count": 12,
   "id": "459e060a",
   "metadata": {},
   "outputs": [
    {
     "name": "stdout",
     "output_type": "stream",
     "text": [
      "Минимизация функции стоимости прошла успешно.\n"
     ]
    }
   ],
   "source": [
    "opt_theta_obj = minimize(lambda th: compute_cost_reg(X, y, th, lamb), init_theta,\n",
    "                         method='CG',\n",
    "                         jac=lambda th: compute_cost_grad_reg(X, y, th, lamb),\n",
    "                         options={'gtol': 1e-5, 'maxiter': 1500, 'disp': False})\n",
    "\n",
    "print('Минимизация функции стоимости ' + ('прошла успешно.' if opt_theta_obj.success else 'не удалась.'))"
   ]
  },
  {
   "cell_type": "code",
   "execution_count": 13,
   "id": "4f8c40c3",
   "metadata": {},
   "outputs": [
    {
     "name": "stdout",
     "output_type": "stream",
     "text": [
      "Функция стоимости при оптимальном theta = 0 (должно быть ~0.529)\n"
     ]
    }
   ],
   "source": [
    "opt_theta = opt_theta_obj.x\n",
    "\n",
    "opt_cost = compute_cost_reg(X, y, opt_theta, lamb)\n",
    "print(f'Функция стоимости при оптимальном theta = {opt_cost} (должно быть ~0.529)')"
   ]
  },
  {
   "cell_type": "code",
   "execution_count": 16,
   "id": "95e574fe",
   "metadata": {},
   "outputs": [
    {
     "name": "stderr",
     "output_type": "stream",
     "text": [
      "C:\\Users\\ASUS\\AppData\\Local\\Temp/ipykernel_6300/4139113444.py:5: MatplotlibDeprecationWarning: shading='flat' when X and Y have the same dimensions as C is deprecated since 3.3.  Either specify the corners of the quadrilaterals with X and Y, or pass shading='auto', 'nearest' or 'gouraud', or set rcParams['pcolor.shading'].  This will become an error two minor releases later.\n",
      "  c = plt.pcolor(np.arange(-2, 2, 0.05), np.arange(-2, 2, 0.05), hm, cmap='Greys')\n"
     ]
    },
    {
     "data": {
      "image/png": "[encoded data removed]",
      "text/plain": [
       "<Figure size 432x288 with 2 Axes>"
      ]
     },
     "metadata": {
      "needs_background": "light"
     },
     "output_type": "display_data"
    }
   ],
   "source": [
    "hm = np.zeros((80, 80))\n",
    "for i in range(80):\n",
    "    for j in range(80):\n",
    "        hm[i, j] = round(logistic(opt_theta @ map_features(np.array([1, j / 20 - 2, i / 20 - 2])).transpose())[0])\n",
    "c = plt.pcolor(np.arange(-2, 2, 0.05), np.arange(-2, 2, 0.05), hm, cmap='Greys')\n",
    "plt.colorbar(c);"
   ]
  },
  {
   "cell_type": "code",
   "execution_count": 17,
   "id": "32014d61",
   "metadata": {},
   "outputs": [
    {
     "data": {
      "image/png": "[encoded data removed]",
      "text/plain": [
       "<Figure size 576x432 with 1 Axes>"
      ]
     },
     "metadata": {
      "needs_background": "light"
     },
     "output_type": "display_data"
    }
   ],
   "source": [
    "plt.figure(figsize=(8, 6))\n",
    "plt.title('Построенная граница решений')\n",
    "plt.scatter(X[y == 0][:, 1], X[y == 0][:, 2], c='r', marker='o')\n",
    "plt.scatter(X[y == 1][:, 1], X[y == 1][:, 2], c='g', marker='x');"
   ]
  },
  {
   "cell_type": "code",
   "execution_count": null,
   "id": "8d1ae8ea",
   "metadata": {},
   "outputs": [],
   "source": []
  }
 ],
 "metadata": {
  "kernelspec": {
   "display_name": "Python 3 (ipykernel)",
   "language": "python",
   "name": "python3"
  },
  "language_info": {
   "codemirror_mode": {
    "name": "ipython",
    "version": 3
   },
   "file_extension": ".py",
   "mimetype": "text/x-python",
   "name": "python",
   "nbconvert_exporter": "python",
   "pygments_lexer": "ipython3",
   "version": "3.9.2"
  }
 },
 "nbformat": 4,
 "nbformat_minor": 5
}
