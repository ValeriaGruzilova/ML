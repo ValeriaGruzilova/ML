{
 "cells": [
  {
   "cell_type": "markdown",
   "id": "bea2cd74",
   "metadata": {},
   "source": [
    "# ML. Практика 2.2. Логистическая регрессия\n",
    "\n",
    "Теперь вы сотрудник лаборатории, производящей процессоры.  \n",
    "У вас есть данные о прохождении процессором 2-ух тестов, которые определяют его исправность.\n",
    "Кроме того, данные размечены, т.е.   \n",
    "исправные процессоры помечены меткой 1, остальные 0.\n",
    "\n",
    "Ваша задача - заполнить код в функциях:\n",
    "- logistic - вычисляет логистическую функцию от аргумента,\n",
    "- compute_cost_reg - вычисляет функцию стоимости c регуляризацией,\n",
    "- compute_cost_grad_reg - вычисляет градиент функции стоимости с регуляризацией.\n",
    "\n",
    "В данной задаче будет использоваться *градиентный метод оптимизации*, определенный в библиотеке *scipy*, так что\n",
    "не нужно реализовывать градиентный спуск.\n",
    "\n",
    "**Комментарии к графикам:**  \n",
    "Первый график - исходные данные.  \n",
    "Второй - исходные данные с результатом работы модели - границей решений.  \n",
    "Черным цветом обозначено поле, попадание точки в которое означает ее\n",
    "принадлежность к 1 классу (процессор исправен), белым - принадлежность к 0 классу (не исправен)."
   ]
  },
  {
   "cell_type": "code",
   "execution_count": 17,
   "id": "cabf988a",
   "metadata": {},
   "outputs": [],
   "source": [
    "import numpy as np\n",
    "from scipy.optimize import minimize\n",
    "from matplotlib import pyplot as plt"
   ]
  },
  {
   "cell_type": "code",
   "execution_count": 18,
   "id": "7b8533b8",
   "metadata": {},
   "outputs": [],
   "source": [
    "def map_features(X):\n",
    "\n",
    "    # Эта функция добавляет все комбинации признаков 2, 3, ..., 6 степеней в матрицу данных.\n",
    "    # Это нужно для того, чтобы мы могли построить нелинейную границу решений.\n",
    "    # При таком большом количестве признаков может возникнуть проблема переобучения\n",
    "    # С ней мы и поборемся с помощью регуляризации.\n",
    "\n",
    "    result = list()\n",
    "    for k in range(X.shape[0] if len(X.shape) == 2 else 1):\n",
    "        vec = list(X[k, :] if len(X.shape) == 2 else X)\n",
    "        for i in range(2, 7):\n",
    "            for j in range(i + 1):\n",
    "                vec.append(vec[1] ** j * vec[2] ** (i - j))\n",
    "        result.append(vec)\n",
    "    return np.array(result)"
   ]
  },
  {
   "cell_type": "code",
   "execution_count": 19,
   "id": "27b7c231",
   "metadata": {},
   "outputs": [],
   "source": [
    "def logistic(z):\n",
    "\n",
    "    # Функция принимает аргумент z - скаляр, вектор или матрицу в виде объекта numpy.array()\n",
    "    # Должна возвращать скяляр, вектор или матрицу (в зависимости от размерности z)\n",
    "    # результатов вычисления логистической функции от элементов z\n",
    "\n",
    "    result = np.zeros(z.shape)  # результат, его нужно посчитать\n",
    "    \n",
    "    result = 1 / (1 + np.exp(-z))\n",
    "\n",
    "    return result"
   ]
  },
  {
   "cell_type": "code",
   "execution_count": 96,
   "id": "91a201ba",
   "metadata": {},
   "outputs": [],
   "source": [
    "def compute_cost_reg(X, y, theta, lamb):\n",
    "\n",
    "    # Функция принимает матрицу данный X, вектор целевых переменных y и вектор параметров theta.\n",
    "    # Кроме того, функция принимает параметр регуляризации lamb.\n",
    "    # Должна возвратить число - результат вычисления функции стоимости в точке theta.\n",
    "\n",
    "    m, n = X.shape  # m - количество примеров в выборке, n - количество признаков у каждого примера\n",
    "    cost = 0  # значение функции стоимости при заданных параметрах, его нужно посчитать\n",
    "\n",
    "    cost = 1/m * np.sum(-y @ np.log(logistic(X @ theta)) - (1 - y) @ np.log(1 - logistic(X @ theta))) \\\n",
    "           + lamb/m * np.sum(theta ** 2)\n",
    "\n",
    "    return cost"
   ]
  },
  {
   "cell_type": "code",
   "execution_count": 91,
   "id": "b0869b90",
   "metadata": {},
   "outputs": [],
   "source": [
    "def compute_cost_grad_reg(X, y, theta, lamb):\n",
    "    # Функция принимает матрицу данный X, вектор целевых переменных y и вектор параметров theta.\n",
    "    # Кроме того, функция принимает параметр регуляризации lamb.\n",
    "    # Должна возвратить вектор координат градиента функции стоимости в точке theta.\n",
    "    # Вектор можно заполнять в виде списка python. При возврате он преобразуется в массив numpy.\n",
    "\n",
    "    m, n = X.shape  # m - количество примеров в выборке, n - количество признаков у каждого примера\n",
    "    grad = [0] * n  # вектор градиента функции стоимости по theta, его нужно заполнить\n",
    "\n",
    "    y = y[:, np.newaxis]\n",
    "    theta = theta[:, np.newaxis]\n",
    "    \n",
    "    error = (logistic(X @ theta) - y).ravel()  # ravel уменьшит многомерный массив до одного измерения\n",
    "    # error (100, )\n",
    "    for j in range(n):\n",
    "        temp = np.multiply(error, X[:, j])\n",
    "        # temp (100, )\n",
    "        temp_2 = np.sum(temp) / m\n",
    "        grad[j] = theta[j] - temp_2 - lamb * theta[j]\n",
    "\n",
    "    return np.array(grad)"
   ]
  },
  {
   "cell_type": "code",
   "execution_count": 72,
   "id": "f5d5c6db",
   "metadata": {},
   "outputs": [],
   "source": [
    "def load_data(data_file_path):\n",
    "    with open(data_file_path) as input_file:\n",
    "        X = list()\n",
    "        y = list()\n",
    "        for line in input_file:\n",
    "            *row, label = map(float, line.split(','))\n",
    "            X.append([1] + row)\n",
    "            y.append(label)\n",
    "        return np.array(X, float), np.array(y, float)"
   ]
  },
  {
   "cell_type": "code",
   "execution_count": 73,
   "id": "0456557b",
   "metadata": {},
   "outputs": [],
   "source": [
    "X, y = load_data('lab2data2.txt')\n",
    "\n",
    "X = map_features(X)"
   ]
  },
  {
   "cell_type": "code",
   "execution_count": 74,
   "id": "2b5acda0",
   "metadata": {},
   "outputs": [
    {
     "name": "stdout",
     "output_type": "stream",
     "text": [
      "logistic(0) = 0.5 (должно быть 0.5)\n",
      "logistic(-10) = 5e-05 (должно быть ~0)\n",
      "logistic(10) = 0.99995 (должно быть ~1)\n"
     ]
    }
   ],
   "source": [
    "print(f'logistic(0) = {np.round(logistic(np.array(0)), 5)} (должно быть 0.5)\\n'\n",
    "      f'logistic(-10) = {np.round(logistic(np.array(-10)), 5)} (должно быть ~0)\\n'\n",
    "      f'logistic(10) = {np.round(logistic(np.array(10)), 5)} (должно быть ~1)')"
   ]
  },
  {
   "cell_type": "code",
   "execution_count": 75,
   "id": "531f0c94",
   "metadata": {},
   "outputs": [
    {
     "data": {
      "image/png": "[encoded data removed]",
      "text/plain": [
       "<Figure size 576x432 with 1 Axes>"
      ]
     },
     "metadata": {
      "needs_background": "light"
     },
     "output_type": "display_data"
    }
   ],
   "source": [
    "plt.figure(figsize=(8, 6))\n",
    "plt.title('Исходные данные')\n",
    "plt.scatter(X[y == 0][:, 1], X[y == 0][:, 2], c='r', marker='o')\n",
    "plt.scatter(X[y == 1][:, 1], X[y == 1][:, 2], c='g', marker='x');"
   ]
  },
  {
   "cell_type": "code",
   "execution_count": 97,
   "id": "48e77cf8",
   "metadata": {},
   "outputs": [
    {
     "name": "stdout",
     "output_type": "stream",
     "text": [
      "Функция стоимости при начальном theta = 0.693 (должно быть ~0.693)\n"
     ]
    }
   ],
   "source": [
    "lamb = 1.0\n",
    "init_theta = np.zeros((X.shape[1], 1))\n",
    "cost0 = compute_cost_reg(X, y, init_theta, lamb)\n",
    "print(f'Функция стоимости при начальном theta = {np.round(cost0, 3)} (должно быть ~0.693)')"
   ]
  },
  {
   "cell_type": "code",
   "execution_count": 92,
   "id": "4f8c40c3",
   "metadata": {},
   "outputs": [
    {
     "ename": "ValueError",
     "evalue": "shapes (28,1) and (28,1) not aligned: 1 (dim 1) != 28 (dim 0)",
     "output_type": "error",
     "traceback": [
      "\u001b[1;31m---------------------------------------------------------------------------\u001b[0m",
      "\u001b[1;31mValueError\u001b[0m                                Traceback (most recent call last)",
      "\u001b[1;32m~\\AppData\\Local\\Temp/ipykernel_8924/2578828488.py\u001b[0m in \u001b[0;36m<module>\u001b[1;34m\u001b[0m\n\u001b[1;32m----> 1\u001b[1;33m opt_theta_obj = minimize(lambda th: compute_cost_reg(X, y, th, lamb), init_theta,\n\u001b[0m\u001b[0;32m      2\u001b[0m                          \u001b[0mmethod\u001b[0m\u001b[1;33m=\u001b[0m\u001b[1;34m'CG'\u001b[0m\u001b[1;33m,\u001b[0m\u001b[1;33m\u001b[0m\u001b[1;33m\u001b[0m\u001b[0m\n\u001b[0;32m      3\u001b[0m                          \u001b[0mjac\u001b[0m\u001b[1;33m=\u001b[0m\u001b[1;32mlambda\u001b[0m \u001b[0mth\u001b[0m\u001b[1;33m:\u001b[0m \u001b[0mcompute_cost_grad_reg\u001b[0m\u001b[1;33m(\u001b[0m\u001b[0mX\u001b[0m\u001b[1;33m,\u001b[0m \u001b[0my\u001b[0m\u001b[1;33m,\u001b[0m \u001b[0mth\u001b[0m\u001b[1;33m,\u001b[0m \u001b[0mlamb\u001b[0m\u001b[1;33m)\u001b[0m\u001b[1;33m,\u001b[0m\u001b[1;33m\u001b[0m\u001b[1;33m\u001b[0m\u001b[0m\n\u001b[0;32m      4\u001b[0m                          options={'gtol': 1e-5, 'maxiter': 1500, 'disp': False})\n\u001b[0;32m      5\u001b[0m \u001b[1;33m\u001b[0m\u001b[0m\n",
      "\u001b[1;32mc:\\users\\asus\\appdata\\local\\programs\\python\\python39\\lib\\site-packages\\scipy\\optimize\\_minimize.py\u001b[0m in \u001b[0;36mminimize\u001b[1;34m(fun, x0, args, method, jac, hess, hessp, bounds, constraints, tol, callback, options)\u001b[0m\n\u001b[0;32m    614\u001b[0m         \u001b[1;32mreturn\u001b[0m \u001b[0m_minimize_powell\u001b[0m\u001b[1;33m(\u001b[0m\u001b[0mfun\u001b[0m\u001b[1;33m,\u001b[0m \u001b[0mx0\u001b[0m\u001b[1;33m,\u001b[0m \u001b[0margs\u001b[0m\u001b[1;33m,\u001b[0m \u001b[0mcallback\u001b[0m\u001b[1;33m,\u001b[0m \u001b[0mbounds\u001b[0m\u001b[1;33m,\u001b[0m \u001b[1;33m**\u001b[0m\u001b[0moptions\u001b[0m\u001b[1;33m)\u001b[0m\u001b[1;33m\u001b[0m\u001b[1;33m\u001b[0m\u001b[0m\n\u001b[0;32m    615\u001b[0m     \u001b[1;32melif\u001b[0m \u001b[0mmeth\u001b[0m \u001b[1;33m==\u001b[0m \u001b[1;34m'cg'\u001b[0m\u001b[1;33m:\u001b[0m\u001b[1;33m\u001b[0m\u001b[1;33m\u001b[0m\u001b[0m\n\u001b[1;32m--> 616\u001b[1;33m         \u001b[1;32mreturn\u001b[0m \u001b[0m_minimize_cg\u001b[0m\u001b[1;33m(\u001b[0m\u001b[0mfun\u001b[0m\u001b[1;33m,\u001b[0m \u001b[0mx0\u001b[0m\u001b[1;33m,\u001b[0m \u001b[0margs\u001b[0m\u001b[1;33m,\u001b[0m \u001b[0mjac\u001b[0m\u001b[1;33m,\u001b[0m \u001b[0mcallback\u001b[0m\u001b[1;33m,\u001b[0m \u001b[1;33m**\u001b[0m\u001b[0moptions\u001b[0m\u001b[1;33m)\u001b[0m\u001b[1;33m\u001b[0m\u001b[1;33m\u001b[0m\u001b[0m\n\u001b[0m\u001b[0;32m    617\u001b[0m     \u001b[1;32melif\u001b[0m \u001b[0mmeth\u001b[0m \u001b[1;33m==\u001b[0m \u001b[1;34m'bfgs'\u001b[0m\u001b[1;33m:\u001b[0m\u001b[1;33m\u001b[0m\u001b[1;33m\u001b[0m\u001b[0m\n\u001b[0;32m    618\u001b[0m         \u001b[1;32mreturn\u001b[0m \u001b[0m_minimize_bfgs\u001b[0m\u001b[1;33m(\u001b[0m\u001b[0mfun\u001b[0m\u001b[1;33m,\u001b[0m \u001b[0mx0\u001b[0m\u001b[1;33m,\u001b[0m \u001b[0margs\u001b[0m\u001b[1;33m,\u001b[0m \u001b[0mjac\u001b[0m\u001b[1;33m,\u001b[0m \u001b[0mcallback\u001b[0m\u001b[1;33m,\u001b[0m \u001b[1;33m**\u001b[0m\u001b[0moptions\u001b[0m\u001b[1;33m)\u001b[0m\u001b[1;33m\u001b[0m\u001b[1;33m\u001b[0m\u001b[0m\n",
      "\u001b[1;32mc:\\users\\asus\\appdata\\local\\programs\\python\\python39\\lib\\site-packages\\scipy\\optimize\\optimize.py\u001b[0m in \u001b[0;36m_minimize_cg\u001b[1;34m(fun, x0, args, jac, callback, gtol, norm, eps, maxiter, disp, return_all, finite_diff_rel_step, **unknown_options)\u001b[0m\n\u001b[0;32m   1551\u001b[0m \u001b[1;33m\u001b[0m\u001b[0m\n\u001b[0;32m   1552\u001b[0m     \u001b[1;32mwhile\u001b[0m \u001b[1;33m(\u001b[0m\u001b[0mgnorm\u001b[0m \u001b[1;33m>\u001b[0m \u001b[0mgtol\u001b[0m\u001b[1;33m)\u001b[0m \u001b[1;32mand\u001b[0m \u001b[1;33m(\u001b[0m\u001b[0mk\u001b[0m \u001b[1;33m<\u001b[0m \u001b[0mmaxiter\u001b[0m\u001b[1;33m)\u001b[0m\u001b[1;33m:\u001b[0m\u001b[1;33m\u001b[0m\u001b[1;33m\u001b[0m\u001b[0m\n\u001b[1;32m-> 1553\u001b[1;33m         \u001b[0mdeltak\u001b[0m \u001b[1;33m=\u001b[0m \u001b[0mnp\u001b[0m\u001b[1;33m.\u001b[0m\u001b[0mdot\u001b[0m\u001b[1;33m(\u001b[0m\u001b[0mgfk\u001b[0m\u001b[1;33m,\u001b[0m \u001b[0mgfk\u001b[0m\u001b[1;33m)\u001b[0m\u001b[1;33m\u001b[0m\u001b[1;33m\u001b[0m\u001b[0m\n\u001b[0m\u001b[0;32m   1554\u001b[0m \u001b[1;33m\u001b[0m\u001b[0m\n\u001b[0;32m   1555\u001b[0m         \u001b[0mcached_step\u001b[0m \u001b[1;33m=\u001b[0m \u001b[1;33m[\u001b[0m\u001b[1;32mNone\u001b[0m\u001b[1;33m]\u001b[0m\u001b[1;33m\u001b[0m\u001b[1;33m\u001b[0m\u001b[0m\n",
      "\u001b[1;32m<__array_function__ internals>\u001b[0m in \u001b[0;36mdot\u001b[1;34m(*args, **kwargs)\u001b[0m\n",
      "\u001b[1;31mValueError\u001b[0m: shapes (28,1) and (28,1) not aligned: 1 (dim 1) != 28 (dim 0)"
     ]
    }
   ],
   "source": [
    "opt_theta_obj = minimize(lambda th: compute_cost_reg(X, y, th, lamb), init_theta,\n",
    "                         method='CG',\n",
    "                         jac=lambda th: compute_cost_grad_reg(X, y, th, lamb),\n",
    "                         options={'gtol': 1e-5, 'maxiter': 1500, 'disp': False})\n",
    "\n",
    "print('Минимизация функции стоимости ' + ('прошла успешно.' if opt_theta_obj.success else 'не удалась.'))\n",
    "opt_theta = opt_theta_obj.x\n",
    "\n",
    "opt_cost = compute_cost_reg(X, y, opt_theta, lamb)\n",
    "print(f'Функция стоимости при оптимальном theta = {np.round(opt_cost, 3)} (должно быть ~0.529)')"
   ]
  },
  {
   "cell_type": "code",
   "execution_count": 78,
   "id": "32014d61",
   "metadata": {},
   "outputs": [
    {
     "name": "stderr",
     "output_type": "stream",
     "text": [
      "C:\\Users\\ASUS\\AppData\\Local\\Temp/ipykernel_8924/1377020857.py:7: MatplotlibDeprecationWarning: shading='flat' when X and Y have the same dimensions as C is deprecated since 3.3.  Either specify the corners of the quadrilaterals with X and Y, or pass shading='auto', 'nearest' or 'gouraud', or set rcParams['pcolor.shading'].  This will become an error two minor releases later.\n",
      "  c = plt.pcolor(np.arange(-2, 2, 0.05), np.arange(-2, 2, 0.05), hm, cmap='Greys')\n"
     ]
    },
    {
     "data": {
      "image/png": "[encoded data removed]",
      "text/plain": [
       "<Figure size 576x432 with 2 Axes>"
      ]
     },
     "metadata": {
      "needs_background": "light"
     },
     "output_type": "display_data"
    }
   ],
   "source": [
    "hm = np.zeros((80, 80))\n",
    "for i in range(80):\n",
    "    for j in range(80):\n",
    "        hm[i, j] = round(logistic(opt_theta @ map_features(np.array([1, j / 20 - 2, i / 20 - 2])).transpose())[0])\n",
    "        \n",
    "plt.figure(figsize=(8, 6))        \n",
    "c = plt.pcolor(np.arange(-2, 2, 0.05), np.arange(-2, 2, 0.05), hm, cmap='Greys')\n",
    "plt.colorbar(c)\n",
    "plt.title('Построенная граница решений')\n",
    "plt.scatter(X[y == 0][:, 1], X[y == 0][:, 2], c='r', marker='o')\n",
    "plt.scatter(X[y == 1][:, 1], X[y == 1][:, 2], c='g', marker='x');"
   ]
  },
  {
   "cell_type": "code",
   "execution_count": null,
   "id": "8d1ae8ea",
   "metadata": {},
   "outputs": [],
   "source": []
  },
  {
   "cell_type": "code",
   "execution_count": null,
   "id": "6023a1b4",
   "metadata": {},
   "outputs": [],
   "source": []
  },
  {
   "cell_type": "code",
   "execution_count": null,
   "id": "e35c3395",
   "metadata": {},
   "outputs": [],
   "source": []
  }
 ],
 "metadata": {
  "kernelspec": {
   "display_name": "Python 3 (ipykernel)",
   "language": "python",
   "name": "python3"
  },
  "language_info": {
   "codemirror_mode": {
    "name": "ipython",
    "version": 3
   },
   "file_extension": ".py",
   "mimetype": "text/x-python",
   "name": "python",
   "nbconvert_exporter": "python",
   "pygments_lexer": "ipython3",
   "version": "3.9.2"
  }
 },
 "nbformat": 4,
 "nbformat_minor": 5
}
