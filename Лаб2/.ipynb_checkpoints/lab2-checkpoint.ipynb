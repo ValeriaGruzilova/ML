{
 "cells": [
  {
   "cell_type": "markdown",
   "id": "d68fad66",
   "metadata": {},
   "source": [
    "# Лабораторная работа 2.1. Логистическая регрессия\n",
    "\n",
    "В этой лабораторной работе вам предстоит обучить **модель логистической регрессии**.\n",
    "\n",
    "Представьте, что вы сотрудник приемной комиссии и хотите оценить шансы студента на прохождение на бюджет.  \n",
    "У вас есть исторические данные о сдачах студентами двух входных экзаменов по 100-балльной шкале.  \n",
    "Кроме того, данные размечены. То есть студенты, прошедшие отбор помечены меткой 1, остальные 0.\n",
    "\n",
    "Ваша задача - заполнить код в функциях:  \n",
    "- logistic - вычисляет логистическую функцию от аргумента,\n",
    "- compute_cost - вычисляет функцию стоимости,\n",
    "- compute_cost_grad - вычисляет градиент функции стоимости.\n",
    "\n",
    "В данной задаче будет использоваться *градиентный метод оптимизации*, определенный в библиотеке *scipy*, так что\n",
    "не нужно реализовывать градиентный спуск.\n",
    "\n",
    "**Комментарии к графикам:**  \n",
    "Первый график - исходные данные.  \n",
    "Второй - исходные данные с результатом работы модели - границей решений.  \n",
    "Черным цветом обозначено поле, попадание точки в которое означает ее\n",
    "принадлежность к 1 классу (студент проходит на бюджет), белым - принадлежность к 0 классу (не проходит на бюджет)."
   ]
  },
  {
   "cell_type": "code",
   "execution_count": 19,
   "id": "fea6be66",
   "metadata": {},
   "outputs": [],
   "source": [
    "import numpy as np\n",
    "from scipy.optimize import minimize\n",
    "from matplotlib import pyplot as plt"
   ]
  },
  {
   "cell_type": "code",
   "execution_count": 20,
   "id": "a999caa5",
   "metadata": {},
   "outputs": [],
   "source": [
    "def logistic(z):\n",
    "\n",
    "    # Функция принимает аргумент z - скаляр, вектор или матрицу в виде объекта numpy.array()\n",
    "    # Должна возвращать скяляр, вектор или матрицу (в зависимости от размерности z)\n",
    "    # результатов вычисления логистической функции от элементов z\n",
    "\n",
    "    result = np.zeros(z.shape)  # результат, его нужно посчитать\n",
    "    \n",
    "    result = 1 / (1 + np.exp(-z))\n",
    "\n",
    "    return result"
   ]
  },
  {
   "cell_type": "code",
   "execution_count": 21,
   "id": "481d6101",
   "metadata": {},
   "outputs": [],
   "source": [
    "def compute_cost(X, y, theta):\n",
    "\n",
    "    # Функция принимает матрицу данных X, вектор целевых переменных y и вектор параметров theta.\n",
    "    # Должна возвратить число - результат вычисления функции стоимости в точке theta.\n",
    "\n",
    "    m, n = X.shape  # m - количество примеров в выборке, n - количество признаков у каждого примера\n",
    "    cost = 0  # значение функции стоимости при заданных параметрах, его нужно посчитать\n",
    "\n",
    "    cost = 1/m * np.sum(-y @ np.log(logistic(X @ theta)) - (1 - y) @ np.log(1 - logistic(X @ theta)))\n",
    "\n",
    "    return cost"
   ]
  },
  {
   "cell_type": "code",
   "execution_count": 22,
   "id": "fcc91d6f",
   "metadata": {},
   "outputs": [],
   "source": [
    "def compute_cost_grad(X, y, theta):\n",
    "    # Функция принимает матрицу данных X, вектор целевых переменных y и вектор параметров theta.\n",
    "    # Должна возвратить вектор координат градиента функции стоимости в точке theta.\n",
    "\n",
    "    m, n = X.shape  # m - количество примеров в выборке, n - количество признаков у каждого примера\n",
    "    # grad - вектор градиента функции стоимости по theta, его нужно заполнить\n",
    "    \n",
    "    grad = 1/m * ((logistic(X @ theta) - y).T @ X)\n",
    "\n",
    "    return grad"
   ]
  },
  {
   "cell_type": "code",
   "execution_count": 23,
   "id": "97945538",
   "metadata": {},
   "outputs": [],
   "source": [
    "def load_data(data_file_path):\n",
    "    with open(data_file_path) as input_file:\n",
    "        X = list()\n",
    "        y = list()\n",
    "        for line in input_file:\n",
    "            *row, label = map(float, line.split(','))\n",
    "            X.append([1] + row)\n",
    "            y.append(label)\n",
    "        return np.array(X, float), np.array(y, float)"
   ]
  },
  {
   "cell_type": "code",
   "execution_count": 24,
   "id": "8ff332b5",
   "metadata": {},
   "outputs": [],
   "source": [
    "X, y = load_data('lab2data1.txt')"
   ]
  },
  {
   "cell_type": "code",
   "execution_count": 25,
   "id": "f3e6b976",
   "metadata": {},
   "outputs": [
    {
     "name": "stdout",
     "output_type": "stream",
     "text": [
      "logistic(0) = 0.5 (должно быть 0.5)\n",
      "logistic(-10) = 5e-05 (должно быть ~0)\n",
      "logistic(10) = 0.99995 (должно быть ~1)\n"
     ]
    }
   ],
   "source": [
    "print(f'logistic(0) = {np.round(logistic(np.array(0)), 5)} (должно быть 0.5)\\n'\n",
    "      f'logistic(-10) = {np.round(logistic(np.array(-10)), 5)} (должно быть ~0)\\n'\n",
    "      f'logistic(10) = {np.round(logistic(np.array(10)), 5)} (должно быть ~1)')"
   ]
  },
  {
   "cell_type": "code",
   "execution_count": 26,
   "id": "a2ee2d78",
   "metadata": {},
   "outputs": [
    {
     "data": {
      "image/png": "[encoded data removed]",
      "text/plain": [
       "<Figure size 576x432 with 1 Axes>"
      ]
     },
     "metadata": {
      "needs_background": "light"
     },
     "output_type": "display_data"
    }
   ],
   "source": [
    "plt.figure(figsize=(8, 6))\n",
    "plt.title('Исходные данные')\n",
    "plt.scatter(X[y == 0][:, 1], X[y == 0][:, 2], c='r', marker='o')\n",
    "plt.scatter(X[y == 1][:, 1], X[y == 1][:, 2], c='g', marker='x');"
   ]
  },
  {
   "cell_type": "code",
   "execution_count": 27,
   "id": "ca0f3901",
   "metadata": {},
   "outputs": [
    {
     "name": "stdout",
     "output_type": "stream",
     "text": [
      "Функция стоимости при начальном theta = 0.693 (должно быть ~0.693)\n"
     ]
    }
   ],
   "source": [
    "init_theta = np.zeros((X.shape[1], 1))\n",
    "cost0 = compute_cost(X, y, init_theta)\n",
    "print(f'Функция стоимости при начальном theta = {np.round(cost0, 3)} (должно быть ~0.693)')"
   ]
  },
  {
   "cell_type": "code",
   "execution_count": 28,
   "id": "f3d1578a",
   "metadata": {},
   "outputs": [
    {
     "name": "stdout",
     "output_type": "stream",
     "text": [
      "Минимизация функции стоимости прошла успешно.\n",
      "Функция стоимости при оптимальном theta = 0.203 (должно быть ~0.203)\n"
     ]
    },
    {
     "name": "stderr",
     "output_type": "stream",
     "text": [
      "C:\\Users\\ASUS\\AppData\\Local\\Temp/ipykernel_5020/3806612115.py:9: RuntimeWarning: divide by zero encountered in log\n",
      "  cost = 1/m * np.sum(-y @ np.log(logistic(X @ theta)) - (1 - y) @ np.log(1 - logistic(X @ theta)))\n",
      "C:\\Users\\ASUS\\AppData\\Local\\Temp/ipykernel_5020/3806612115.py:9: RuntimeWarning: invalid value encountered in matmul\n",
      "  cost = 1/m * np.sum(-y @ np.log(logistic(X @ theta)) - (1 - y) @ np.log(1 - logistic(X @ theta)))\n"
     ]
    }
   ],
   "source": [
    "opt_theta_obj = minimize(lambda th: compute_cost(X, y, th), init_theta,\n",
    "                         method='CG',\n",
    "                         jac=lambda th: compute_cost_grad(X, y, th),\n",
    "                         options={'gtol': 1e-5, 'maxiter': 200, 'disp': False})\n",
    "\n",
    "print('Минимизация функции стоимости ' + ('прошла успешно.' if opt_theta_obj.success else 'не удалась.'))\n",
    "opt_theta = opt_theta_obj.x\n",
    "\n",
    "opt_cost = compute_cost(X, y, opt_theta)\n",
    "print(f'Функция стоимости при оптимальном theta = {np.round(opt_cost, 3)} (должно быть ~0.203)')"
   ]
  },
  {
   "cell_type": "code",
   "execution_count": 29,
   "id": "0c2ca859",
   "metadata": {},
   "outputs": [
    {
     "data": {
      "image/png": "[encoded data removed]",
      "text/plain": [
       "<Figure size 576x432 with 2 Axes>"
      ]
     },
     "metadata": {
      "needs_background": "light"
     },
     "output_type": "display_data"
    }
   ],
   "source": [
    "hm = np.zeros((100, 100))\n",
    "for i in range(100):\n",
    "    for j in range(100):\n",
    "        hm[i, j] = np.round(logistic(opt_theta @ np.array([1, j, i])))\n",
    "        \n",
    "plt.figure(figsize=(8, 6))       \n",
    "c = plt.pcolor(range(101), range(101), hm, cmap='Greys')\n",
    "plt.colorbar(c);\n",
    "plt.title('Построенная граница решений')\n",
    "plt.scatter(X[y == 0][:, 1], X[y == 0][:, 2], c='r', marker='o')\n",
    "plt.scatter(X[y == 1][:, 1], X[y == 1][:, 2], c='g', marker='x')\n",
    "plt.ylim(25, 100)\n",
    "plt.xlim(25, 100);"
   ]
  },
  {
   "cell_type": "code",
   "execution_count": null,
   "id": "79067fa3",
   "metadata": {},
   "outputs": [],
   "source": []
  }
 ],
 "metadata": {
  "kernelspec": {
   "display_name": "Python 3",
   "language": "python",
   "name": "python3"
  },
  "language_info": {
   "codemirror_mode": {
    "name": "ipython",
    "version": 3
   },
   "file_extension": ".py",
   "mimetype": "text/x-python",
   "name": "python",
   "nbconvert_exporter": "python",
   "pygments_lexer": "ipython3",
   "version": "3.8.8"
  }
 },
 "nbformat": 4,
 "nbformat_minor": 5
}
